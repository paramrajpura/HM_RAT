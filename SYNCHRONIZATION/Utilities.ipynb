{
 "cells": [
  {
   "cell_type": "code",
   "execution_count": null,
   "id": "79a32e4f",
   "metadata": {},
   "outputs": [],
   "source": [
    "\n",
    "import numpy as np\n",
    "import cv2\n",
    "\n",
    "video = \"/home/genzel/param/stitching_test/test1.mp4\"\n",
    "\n",
    "video_capture = cv2.VideoCapture(video)\n",
    "video_length = int(video_capture.get(cv2.CAP_PROP_FRAME_COUNT))\n",
    "\n",
    "count = 0\n",
    "while(True):\n",
    "        # Capture frame-by-frame\n",
    "        ret, frame = video_capture.read()\n",
    "        if not ret:\n",
    "            break\n",
    "\n",
    "        count += 1\n",
    "\n",
    "print(video_length, count)\n",
    "# When everything done, release the capture\n",
    "video_capture.release()\n",
    "cv2.destroyAllWindows()"
   ]
  },
  {
   "cell_type": "code",
   "execution_count": 3,
   "id": "995a9ea9",
   "metadata": {},
   "outputs": [
    {
     "name": "stdout",
     "output_type": "stream",
     "text": [
      "1629365544.606 2021-08-19 09:32:24.606000\n"
     ]
    }
   ],
   "source": [
    "from datetime import datetime\n",
    "sys_time = int(1629365544606)/1000\n",
    "timestamp_at_creation = int(275107)#/1000\n",
    "sys_time_dt = datetime.utcfromtimestamp(sys_time)#pd.to_datetime(sys_time, unit='s',utc=True)#\n",
    "#     print(pd.to_datetime(sys_time, unit='s'),sys_time_dt,datetime.utcfromtimestamp(timestamp_at_creation/1000))\n",
    "print(sys_time,sys_time_dt)"
   ]
  },
  {
   "cell_type": "code",
   "execution_count": 4,
   "id": "9175b492",
   "metadata": {},
   "outputs": [
    {
     "name": "stdout",
     "output_type": "stream",
     "text": [
      "1629365547.153 2021-08-19 09:32:27.153000\n"
     ]
    }
   ],
   "source": [
    "sys_time = int(1629365547153)/1000\n",
    "timestamp_at_creation = int(275107)#/1000\n",
    "sys_time_dt = datetime.utcfromtimestamp(sys_time)#pd.to_datetime(sys_time, unit='s',utc=True)#\n",
    "#     print(pd.to_datetime(sys_time, unit='s'),sys_time_dt,datetime.utcfromtimestamp(timestamp_at_creation/1000))\n",
    "print(sys_time,sys_time_dt)\n",
    "\n"
   ]
  },
  {
   "cell_type": "code",
   "execution_count": null,
   "id": "ad9f386e",
   "metadata": {},
   "outputs": [],
   "source": []
  }
 ],
 "metadata": {
  "kernelspec": {
   "display_name": "Python 3 (ipykernel)",
   "language": "python",
   "name": "python3"
  },
  "language_info": {
   "codemirror_mode": {
    "name": "ipython",
    "version": 3
   },
   "file_extension": ".py",
   "mimetype": "text/x-python",
   "name": "python",
   "nbconvert_exporter": "python",
   "pygments_lexer": "ipython3",
   "version": "3.8.13"
  }
 },
 "nbformat": 4,
 "nbformat_minor": 5
}
